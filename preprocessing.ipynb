{
 "cells": [
  {
   "cell_type": "code",
   "execution_count": null,
   "id": "e2b215bb",
   "metadata": {},
   "outputs": [
    {
     "name": "stderr",
     "output_type": "stream",
     "text": [
      "[nltk_data] Downloading package stopwords to\n",
      "[nltk_data]     C:\\Users\\Okaru\\AppData\\Roaming\\nltk_data...\n",
      "[nltk_data]   Package stopwords is already up-to-date!\n"
     ]
    }
   ],
   "source": [
    "import pandas as pd\n",
    "import re\n",
    "import emoji\n",
    "import nltk\n",
    "nltk.download('stopwords')\n",
    "from nltk.corpus import stopwords\n",
    "\n",
    "taglish_stopwords = set(stopwords.words('english')) | {\n",
    "    'ako','ikaw','siya','tayo','kami','kayo','sila','ang','ng','sa','na','ay','ko',\n",
    "    'mo','ni','ito','ganyan','ganun','lang','naman','pa','rin','ba','ha','eh','o',\n",
    "    'nga','daw','din','pala','natin','nyo','sayo','yan','wala','meron'\n",
    "}\n",
    "\n",
    "tagalog_slang_dict = {\n",
    "    \"nmn\": \"naman\", \"pki\": \"paki\", \"pls\": \"please\", \"bkit\": \"bakit\",\n",
    "    \"d\": \"hindi\", \"di\": \"hindi\", \"nde\": \"hindi\", \"kaau\": \"masyado\",\n",
    "    \"paun\": \"paano\", \"kc\": \"kasi\", \"q\": \"ko\", \"u\": \"ikaw\", \"ung\": \"iyong\",\n",
    "    \"kya\": \"kaya\", \"tlga\": \"talaga\", \"anu\": \"ano\", \"dn\": \"din\", \"mg\": \"mga\",\n",
    "    \"na2\": \"na ito\", \"sya\": \"siya\", \"skl\": \"share ko lang\", \"grabeh\": \"grabe\",\n",
    "    \"pkisagot\": \"pakisagot\", \"gnyan\": \"ganyan\", \"nyo\": \"ninyo\"\n",
    "}\n",
    "\n",
    "def normalize_tagalog_words(tokens):\n",
    "    return [tagalog_slang_dict.get(token, token) for token in tokens]\n",
    "\n",
    "def clean_taglish_xpost(text):\n",
    "    text = str(text).lower()\n",
    "    text = emoji.replace_emoji(text, replace=\"\")\n",
    "    text = re.sub(r\"http\\S+\", \"\", text)\n",
    "    text = re.sub(r\"@\\w+\", \"\", text)\n",
    "    text = re.sub(r\"#\", \"\", text)\n",
    "    text = re.sub(r\"[^\\w\\s]\", \"\", text)\n",
    "    text = re.sub(r\"\\d+\", \"\", text)\n",
    "\n",
    "    tokens = text.split()\n",
    "\n",
    "    tokens = normalize_tagalog_words(tokens)\n",
    "\n",
    "    laughter_regex = re.compile(r'\\b(ha)+\\b|\\b(he)+\\b|\\b(ho)+\\b|\\blol\\b', re.IGNORECASE)\n",
    "    filtered = [word for word in tokens if word not in taglish_stopwords or laughter_regex.match(word)]\n",
    "\n",
    "    return \" \".join(filtered)\n",
    "\n",
    "df = pd.read_csv(\"for_export_philippine_elections.csv\")  \n",
    "df[\"cleaned\"] = df[\"text\"].apply(clean_taglish_xpost)"
   ]
  },
  {
   "cell_type": "code",
   "execution_count": null,
   "id": "97295573",
   "metadata": {},
   "outputs": [
    {
     "name": "stdout",
     "output_type": "stream",
     "text": [
      "✅ Done! 1000 cleaned tweets exported to 'taglish_1000_for_annotation.csv'\n"
     ]
    },
    {
     "name": "stderr",
     "output_type": "stream",
     "text": [
      "C:\\Users\\Okaru\\AppData\\Local\\Temp\\ipykernel_1916\\3589578770.py:6: SettingWithCopyWarning: \n",
      "A value is trying to be set on a copy of a slice from a DataFrame.\n",
      "Try using .loc[row_indexer,col_indexer] = value instead\n",
      "\n",
      "See the caveats in the documentation: https://pandas.pydata.org/pandas-docs/stable/user_guide/indexing.html#returning-a-view-versus-a-copy\n",
      "  df_1000[\"label\"] = \"\"\n"
     ]
    }
   ],
   "source": [
    "df = df[df[\"cleaned\"].str.strip() != \"\"]\n",
    "\n",
    "df = df.sample(frac=1, random_state=42).reset_index(drop=True)\n",
    "df_1000 = df.head(1000)\n",
    "\n",
    "df_1000[\"label\"] = \"\"\n",
    "\n",
    "df_1000[[\"cleaned\", \"label\"]].to_csv(\"taglish_1000_for_annotation.csv\", index=False)\n",
    "\n",
    "print(\"1000 cleaned tweets exported to 'taglish_1000_for_annotation.csv'\")"
   ]
  }
 ],
 "metadata": {
  "kernelspec": {
   "display_name": "Python 3",
   "language": "python",
   "name": "python3"
  },
  "language_info": {
   "codemirror_mode": {
    "name": "ipython",
    "version": 3
   },
   "file_extension": ".py",
   "mimetype": "text/x-python",
   "name": "python",
   "nbconvert_exporter": "python",
   "pygments_lexer": "ipython3",
   "version": "3.11.9"
  }
 },
 "nbformat": 4,
 "nbformat_minor": 5
}
